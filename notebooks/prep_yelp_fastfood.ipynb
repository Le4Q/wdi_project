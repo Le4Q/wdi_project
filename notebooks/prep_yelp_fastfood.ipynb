{
 "cells": [
  {
   "cell_type": "code",
   "execution_count": 1,
   "metadata": {
    "collapsed": true
   },
   "outputs": [],
   "source": [
    "import pandas as pd\n",
    "import numpy as np"
   ]
  },
  {
   "cell_type": "markdown",
   "metadata": {},
   "source": [
    "# Fastfood Dataset"
   ]
  },
  {
   "cell_type": "code",
   "execution_count": 3,
   "metadata": {},
   "outputs": [
    {
     "data": {
      "text/html": [
       "<div>\n",
       "<style scoped>\n",
       "    .dataframe tbody tr th:only-of-type {\n",
       "        vertical-align: middle;\n",
       "    }\n",
       "\n",
       "    .dataframe tbody tr th {\n",
       "        vertical-align: top;\n",
       "    }\n",
       "\n",
       "    .dataframe thead th {\n",
       "        text-align: right;\n",
       "    }\n",
       "</style>\n",
       "<table border=\"1\" class=\"dataframe\">\n",
       "  <thead>\n",
       "    <tr style=\"text-align: right;\">\n",
       "      <th></th>\n",
       "      <th>address</th>\n",
       "      <th>city</th>\n",
       "      <th>country</th>\n",
       "      <th>keys</th>\n",
       "      <th>latitude</th>\n",
       "      <th>longitude</th>\n",
       "      <th>name</th>\n",
       "      <th>postalCode</th>\n",
       "      <th>province</th>\n",
       "      <th>websites</th>\n",
       "    </tr>\n",
       "  </thead>\n",
       "  <tbody>\n",
       "    <tr>\n",
       "      <th>0</th>\n",
       "      <td>324 Main St</td>\n",
       "      <td>Massena</td>\n",
       "      <td>US</td>\n",
       "      <td>us/ny/massena/324mainst/-1161002137</td>\n",
       "      <td>44.92130</td>\n",
       "      <td>-74.89021</td>\n",
       "      <td>McDonald's</td>\n",
       "      <td>13662</td>\n",
       "      <td>NY</td>\n",
       "      <td>http://mcdonalds.com,http://www.mcdonalds.com/...</td>\n",
       "    </tr>\n",
       "    <tr>\n",
       "      <th>1</th>\n",
       "      <td>530 Clinton Ave</td>\n",
       "      <td>Washington Court House</td>\n",
       "      <td>US</td>\n",
       "      <td>us/oh/washingtoncourthouse/530clintonave/-7914...</td>\n",
       "      <td>39.53255</td>\n",
       "      <td>-83.44526</td>\n",
       "      <td>Wendy's</td>\n",
       "      <td>43160</td>\n",
       "      <td>OH</td>\n",
       "      <td>http://www.wendys.com</td>\n",
       "    </tr>\n",
       "    <tr>\n",
       "      <th>2</th>\n",
       "      <td>408 Market Square Dr</td>\n",
       "      <td>Maysville</td>\n",
       "      <td>US</td>\n",
       "      <td>us/ky/maysville/408marketsquaredr/1051460804</td>\n",
       "      <td>38.62736</td>\n",
       "      <td>-83.79141</td>\n",
       "      <td>Frisch's Big Boy</td>\n",
       "      <td>41056</td>\n",
       "      <td>KY</td>\n",
       "      <td>http://www.frischs.com,https://www.frischs.com...</td>\n",
       "    </tr>\n",
       "  </tbody>\n",
       "</table>\n",
       "</div>"
      ],
      "text/plain": [
       "                address                    city country  \\\n",
       "0           324 Main St                 Massena      US   \n",
       "1       530 Clinton Ave  Washington Court House      US   \n",
       "2  408 Market Square Dr               Maysville      US   \n",
       "\n",
       "                                                keys  latitude  longitude  \\\n",
       "0                us/ny/massena/324mainst/-1161002137  44.92130  -74.89021   \n",
       "1  us/oh/washingtoncourthouse/530clintonave/-7914...  39.53255  -83.44526   \n",
       "2       us/ky/maysville/408marketsquaredr/1051460804  38.62736  -83.79141   \n",
       "\n",
       "               name postalCode province  \\\n",
       "0        McDonald's      13662       NY   \n",
       "1           Wendy's      43160       OH   \n",
       "2  Frisch's Big Boy      41056       KY   \n",
       "\n",
       "                                            websites  \n",
       "0  http://mcdonalds.com,http://www.mcdonalds.com/...  \n",
       "1                              http://www.wendys.com  \n",
       "2  http://www.frischs.com,https://www.frischs.com...  "
      ]
     },
     "execution_count": 3,
     "metadata": {},
     "output_type": "execute_result"
    }
   ],
   "source": [
    "# read dataset\n",
    "df_fastfood = pd.read_csv('../data/FastFoodRestaurants.csv')\n",
    "df_fastfood.head(3)"
   ]
  },
  {
   "cell_type": "code",
   "execution_count": 4,
   "metadata": {},
   "outputs": [
    {
     "name": "stdout",
     "output_type": "stream",
     "text": [
      "10000\n",
      "10\n"
     ]
    },
    {
     "data": {
      "text/plain": [
       "Index(['address', 'city', 'country', 'keys', 'latitude', 'longitude', 'name',\n",
       "       'postalCode', 'province', 'websites'],\n",
       "      dtype='object')"
      ]
     },
     "execution_count": 4,
     "metadata": {},
     "output_type": "execute_result"
    }
   ],
   "source": [
    "# print number of entities and attributes\n",
    "print(len(df_fastfood))\n",
    "print(len(df_fastfood.columns))\n",
    "df_fastfood.columns"
   ]
  },
  {
   "cell_type": "code",
   "execution_count": 5,
   "metadata": {},
   "outputs": [
    {
     "data": {
      "text/plain": [
       "address       0.0000\n",
       "city          0.0000\n",
       "country       0.0000\n",
       "keys          0.0000\n",
       "latitude      0.0000\n",
       "longitude     0.0000\n",
       "name          0.0000\n",
       "postalCode    0.0000\n",
       "province      0.0000\n",
       "websites      0.0465\n",
       "dtype: float64"
      ]
     },
     "execution_count": 5,
     "metadata": {},
     "output_type": "execute_result"
    }
   ],
   "source": [
    "# check for missing values\n",
    "df_fastfood.replace('', np.nan, inplace=True)\n",
    "df_fastfood.isnull().mean()"
   ]
  },
  {
   "cell_type": "code",
   "execution_count": 129,
   "metadata": {},
   "outputs": [
    {
     "data": {
      "text/plain": [
       "3439"
      ]
     },
     "execution_count": 129,
     "metadata": {},
     "output_type": "execute_result"
    }
   ],
   "source": [
    "# number of city entities\n",
    "len(df_fastfood[['city','country', 'province']].drop_duplicates())"
   ]
  },
  {
   "cell_type": "code",
   "execution_count": 130,
   "metadata": {},
   "outputs": [
    {
     "data": {
      "text/plain": [
       "city           country  province\n",
       "Cincinnati     US       OH          119\n",
       "Las Vegas      US       NV           65\n",
       "Houston        US       TX           62\n",
       "Miami          US       FL           57\n",
       "Denver         US       CO           51\n",
       "Chicago        US       IL           51\n",
       "Phoenix        US       AZ           42\n",
       "Oklahoma City  US       OK           41\n",
       "Atlanta        US       GA           38\n",
       "New York       US       NY           36\n",
       "Albuquerque    US       NM           35\n",
       "Rapid City     US       SD           34\n",
       "Saint Paul     US       MN           33\n",
       "Los Angeles    US       CA           33\n",
       "Saint Louis    US       MO           33\n",
       "dtype: int64"
      ]
     },
     "execution_count": 130,
     "metadata": {},
     "output_type": "execute_result"
    }
   ],
   "source": [
    "df_fastfood.groupby(['city','country', 'province']).size().sort_values(ascending=False)[:15]"
   ]
  },
  {
   "cell_type": "markdown",
   "metadata": {},
   "source": [
    "# Yelp Dataset"
   ]
  },
  {
   "cell_type": "code",
   "execution_count": 6,
   "metadata": {},
   "outputs": [
    {
     "name": "stdout",
     "output_type": "stream",
     "text": [
      "188593\n",
      "188052\n"
     ]
    },
    {
     "data": {
      "text/html": [
       "<div>\n",
       "<style scoped>\n",
       "    .dataframe tbody tr th:only-of-type {\n",
       "        vertical-align: middle;\n",
       "    }\n",
       "\n",
       "    .dataframe tbody tr th {\n",
       "        vertical-align: top;\n",
       "    }\n",
       "\n",
       "    .dataframe thead th {\n",
       "        text-align: right;\n",
       "    }\n",
       "</style>\n",
       "<table border=\"1\" class=\"dataframe\">\n",
       "  <thead>\n",
       "    <tr style=\"text-align: right;\">\n",
       "      <th></th>\n",
       "      <th>address</th>\n",
       "      <th>attributes</th>\n",
       "      <th>business_id</th>\n",
       "      <th>categories</th>\n",
       "      <th>city</th>\n",
       "      <th>hours</th>\n",
       "      <th>is_open</th>\n",
       "      <th>latitude</th>\n",
       "      <th>longitude</th>\n",
       "      <th>name</th>\n",
       "      <th>neighborhood</th>\n",
       "      <th>postal_code</th>\n",
       "      <th>review_count</th>\n",
       "      <th>stars</th>\n",
       "      <th>state</th>\n",
       "    </tr>\n",
       "  </thead>\n",
       "  <tbody>\n",
       "    <tr>\n",
       "      <th>0</th>\n",
       "      <td>1314 44 Avenue NE</td>\n",
       "      <td>{'RestaurantsPriceRange2': '2', 'BikeParking':...</td>\n",
       "      <td>Apn5Q_b6Nz61Tq4XzPdf9A</td>\n",
       "      <td>Tours, Breweries, Pizza, Restaurants, Food, Ho...</td>\n",
       "      <td>Calgary</td>\n",
       "      <td>{'Thursday': '11:0-21:0', 'Tuesday': '11:0-21:...</td>\n",
       "      <td>1</td>\n",
       "      <td>51.091813</td>\n",
       "      <td>-114.031675</td>\n",
       "      <td>Minhas Micro Brewery</td>\n",
       "      <td></td>\n",
       "      <td>T2E 6L6</td>\n",
       "      <td>24</td>\n",
       "      <td>4.0</td>\n",
       "      <td>AB</td>\n",
       "    </tr>\n",
       "    <tr>\n",
       "      <th>1</th>\n",
       "      <td></td>\n",
       "      <td>{'GoodForMeal': '{'dessert': False, 'latenight...</td>\n",
       "      <td>AjEbIBw6ZFfln7ePHha9PA</td>\n",
       "      <td>Chicken Wings, Burgers, Caterers, Street Vendo...</td>\n",
       "      <td>Henderson</td>\n",
       "      <td>{'Sunday': '17:0-23:0', 'Saturday': '17:0-23:0...</td>\n",
       "      <td>0</td>\n",
       "      <td>35.960734</td>\n",
       "      <td>-114.939821</td>\n",
       "      <td>CK'S BBQ &amp; Catering</td>\n",
       "      <td></td>\n",
       "      <td>89002</td>\n",
       "      <td>3</td>\n",
       "      <td>4.5</td>\n",
       "      <td>NV</td>\n",
       "    </tr>\n",
       "  </tbody>\n",
       "</table>\n",
       "</div>"
      ],
      "text/plain": [
       "             address                                         attributes  \\\n",
       "0  1314 44 Avenue NE  {'RestaurantsPriceRange2': '2', 'BikeParking':...   \n",
       "1                     {'GoodForMeal': '{'dessert': False, 'latenight...   \n",
       "\n",
       "              business_id                                         categories  \\\n",
       "0  Apn5Q_b6Nz61Tq4XzPdf9A  Tours, Breweries, Pizza, Restaurants, Food, Ho...   \n",
       "1  AjEbIBw6ZFfln7ePHha9PA  Chicken Wings, Burgers, Caterers, Street Vendo...   \n",
       "\n",
       "        city                                              hours  is_open  \\\n",
       "0    Calgary  {'Thursday': '11:0-21:0', 'Tuesday': '11:0-21:...        1   \n",
       "1  Henderson  {'Sunday': '17:0-23:0', 'Saturday': '17:0-23:0...        0   \n",
       "\n",
       "    latitude   longitude                  name neighborhood postal_code  \\\n",
       "0  51.091813 -114.031675  Minhas Micro Brewery                  T2E 6L6   \n",
       "1  35.960734 -114.939821   CK'S BBQ & Catering                    89002   \n",
       "\n",
       "   review_count  stars state  \n",
       "0            24    4.0    AB  \n",
       "1             3    4.5    NV  "
      ]
     },
     "execution_count": 6,
     "metadata": {},
     "output_type": "execute_result"
    }
   ],
   "source": [
    "df_yelp_business = pd.read_json('../data/yelp-dataset/yelp_academic_dataset_business.json', lines=True)\n",
    "print(len(df_yelp_business))\n",
    "df_yelp_business = df_yelp_business[df_yelp_business['categories'].notnull()]\n",
    "print(len(df_yelp_business))\n",
    "df_yelp_business.head(2)"
   ]
  },
  {
   "cell_type": "code",
   "execution_count": 7,
   "metadata": {},
   "outputs": [
    {
     "name": "stdout",
     "output_type": "stream",
     "text": [
      "57173\n"
     ]
    },
    {
     "data": {
      "text/html": [
       "<div>\n",
       "<style scoped>\n",
       "    .dataframe tbody tr th:only-of-type {\n",
       "        vertical-align: middle;\n",
       "    }\n",
       "\n",
       "    .dataframe tbody tr th {\n",
       "        vertical-align: top;\n",
       "    }\n",
       "\n",
       "    .dataframe thead th {\n",
       "        text-align: right;\n",
       "    }\n",
       "</style>\n",
       "<table border=\"1\" class=\"dataframe\">\n",
       "  <thead>\n",
       "    <tr style=\"text-align: right;\">\n",
       "      <th></th>\n",
       "      <th>address</th>\n",
       "      <th>attributes</th>\n",
       "      <th>business_id</th>\n",
       "      <th>categories</th>\n",
       "      <th>city</th>\n",
       "      <th>hours</th>\n",
       "      <th>is_open</th>\n",
       "      <th>latitude</th>\n",
       "      <th>longitude</th>\n",
       "      <th>name</th>\n",
       "      <th>neighborhood</th>\n",
       "      <th>postal_code</th>\n",
       "      <th>review_count</th>\n",
       "      <th>stars</th>\n",
       "      <th>state</th>\n",
       "    </tr>\n",
       "  </thead>\n",
       "  <tbody>\n",
       "    <tr>\n",
       "      <th>0</th>\n",
       "      <td>1314 44 Avenue NE</td>\n",
       "      <td>{'RestaurantsPriceRange2': '2', 'BikeParking':...</td>\n",
       "      <td>Apn5Q_b6Nz61Tq4XzPdf9A</td>\n",
       "      <td>Tours, Breweries, Pizza, Restaurants, Food, Ho...</td>\n",
       "      <td>Calgary</td>\n",
       "      <td>{'Thursday': '11:0-21:0', 'Tuesday': '11:0-21:...</td>\n",
       "      <td>1</td>\n",
       "      <td>51.091813</td>\n",
       "      <td>-114.031675</td>\n",
       "      <td>Minhas Micro Brewery</td>\n",
       "      <td></td>\n",
       "      <td>T2E 6L6</td>\n",
       "      <td>24</td>\n",
       "      <td>4.0</td>\n",
       "      <td>AB</td>\n",
       "    </tr>\n",
       "    <tr>\n",
       "      <th>1</th>\n",
       "      <td></td>\n",
       "      <td>{'GoodForMeal': '{'dessert': False, 'latenight...</td>\n",
       "      <td>AjEbIBw6ZFfln7ePHha9PA</td>\n",
       "      <td>Chicken Wings, Burgers, Caterers, Street Vendo...</td>\n",
       "      <td>Henderson</td>\n",
       "      <td>{'Sunday': '17:0-23:0', 'Saturday': '17:0-23:0...</td>\n",
       "      <td>0</td>\n",
       "      <td>35.960734</td>\n",
       "      <td>-114.939821</td>\n",
       "      <td>CK'S BBQ &amp; Catering</td>\n",
       "      <td></td>\n",
       "      <td>89002</td>\n",
       "      <td>3</td>\n",
       "      <td>4.5</td>\n",
       "      <td>NV</td>\n",
       "    </tr>\n",
       "    <tr>\n",
       "      <th>2</th>\n",
       "      <td>1335 rue Beaubien E</td>\n",
       "      <td>{'GoodForMeal': '{'dessert': False, 'latenight...</td>\n",
       "      <td>O8S5hYJ1SMc8fA4QBtVujA</td>\n",
       "      <td>Breakfast &amp; Brunch, Restaurants, French, Sandw...</td>\n",
       "      <td>Montréal</td>\n",
       "      <td>{'Thursday': '10:0-22:0', 'Tuesday': '10:0-22:...</td>\n",
       "      <td>0</td>\n",
       "      <td>45.540503</td>\n",
       "      <td>-73.599300</td>\n",
       "      <td>La Bastringue</td>\n",
       "      <td>Rosemont-La Petite-Patrie</td>\n",
       "      <td>H2G 1K7</td>\n",
       "      <td>5</td>\n",
       "      <td>4.0</td>\n",
       "      <td>QC</td>\n",
       "    </tr>\n",
       "  </tbody>\n",
       "</table>\n",
       "</div>"
      ],
      "text/plain": [
       "               address                                         attributes  \\\n",
       "0    1314 44 Avenue NE  {'RestaurantsPriceRange2': '2', 'BikeParking':...   \n",
       "1                       {'GoodForMeal': '{'dessert': False, 'latenight...   \n",
       "2  1335 rue Beaubien E  {'GoodForMeal': '{'dessert': False, 'latenight...   \n",
       "\n",
       "              business_id                                         categories  \\\n",
       "0  Apn5Q_b6Nz61Tq4XzPdf9A  Tours, Breweries, Pizza, Restaurants, Food, Ho...   \n",
       "1  AjEbIBw6ZFfln7ePHha9PA  Chicken Wings, Burgers, Caterers, Street Vendo...   \n",
       "2  O8S5hYJ1SMc8fA4QBtVujA  Breakfast & Brunch, Restaurants, French, Sandw...   \n",
       "\n",
       "        city                                              hours  is_open  \\\n",
       "0    Calgary  {'Thursday': '11:0-21:0', 'Tuesday': '11:0-21:...        1   \n",
       "1  Henderson  {'Sunday': '17:0-23:0', 'Saturday': '17:0-23:0...        0   \n",
       "2   Montréal  {'Thursday': '10:0-22:0', 'Tuesday': '10:0-22:...        0   \n",
       "\n",
       "    latitude   longitude                  name               neighborhood  \\\n",
       "0  51.091813 -114.031675  Minhas Micro Brewery                              \n",
       "1  35.960734 -114.939821   CK'S BBQ & Catering                              \n",
       "2  45.540503  -73.599300         La Bastringue  Rosemont-La Petite-Patrie   \n",
       "\n",
       "  postal_code  review_count  stars state  \n",
       "0     T2E 6L6            24    4.0    AB  \n",
       "1       89002             3    4.5    NV  \n",
       "2     H2G 1K7             5    4.0    QC  "
      ]
     },
     "execution_count": 7,
     "metadata": {},
     "output_type": "execute_result"
    }
   ],
   "source": [
    "# filter restaurants\n",
    "df_yelp_business_restaurants = df_yelp_business.loc[df_yelp_business['categories'].str.contains('Restaurants')]\n",
    "print(len(df_yelp_business_restaurants))\n",
    "df_yelp_business_restaurants.head(3)"
   ]
  },
  {
   "cell_type": "markdown",
   "metadata": {},
   "source": [
    "Check whether the dataset contains Fastfood chains"
   ]
  },
  {
   "cell_type": "code",
   "execution_count": 8,
   "metadata": {},
   "outputs": [
    {
     "name": "stdout",
     "output_type": "stream",
     "text": [
      "Donald 810\n",
      "                     address        city        name\n",
      "107        901 E Arrowood Rd   Charlotte   McDonalds\n",
      "486  8001 E Indian School Rd  Scottsdale  McDonald's\n",
      "\n",
      "Burger King 304\n",
      "              address         city                     name\n",
      "878   6010 Dixie Road  Mississauga  Burger King Restaurants\n",
      "1579   1201 W Main St         Mesa              Burger King\n",
      "\n",
      "Subway 745\n",
      "                  address       city    name\n",
      "32    2255 N Rampart Blvd  Las Vegas  Subway\n",
      "59  2812 W Sugar Creek Rd  Charlotte  Subway\n",
      "\n",
      "Wendy 289\n",
      "                 address     city     name\n",
      "106  7109 MacLeod Trl SW  Calgary  Wendy's\n",
      "675          660 Park St  Belmont  Wendy's\n",
      "\n",
      "Domino 245\n",
      "                         address       city            name\n",
      "321               3214 17 Ave SW    Calgary  Domino's Pizza\n",
      "391  8532 Del Webb Blvd, Ste 116  Las Vegas  Domino's Pizza\n",
      "\n"
     ]
    }
   ],
   "source": [
    "chains = ['Donald', 'Burger King', 'Subway', 'Wendy', 'Domino']\n",
    "\n",
    "for chain in chains:\n",
    "    print(chain, len(df_yelp_business_restaurants.loc[df_yelp_business_restaurants.name.str.contains(chain)]))\n",
    "    print(df_yelp_business_restaurants.loc[df_yelp_business_restaurants.name.str.contains(chain)][['address','city','name']].head(2))\n",
    "    print()"
   ]
  },
  {
   "cell_type": "markdown",
   "metadata": {},
   "source": [
    "Flatten"
   ]
  },
  {
   "cell_type": "code",
   "execution_count": null,
   "metadata": {
    "collapsed": true
   },
   "outputs": [],
   "source": [
    "attributes_flattened = df_yelp_business_restaurants['attributes'].apply(pd.Series)\n",
    "\n",
    "df_yelp_business_restaurants_flattened = pd.concat([df_yelp_business_restaurants.drop(['attributes'], axis=1), attributes_flattened[['BikeParking', 'BusinessAcceptsCreditCards','BusinessParking','GoodForKids','HasTV','NoiseLevel','OutdoorSeating','RestaurantsAttire',\n",
    "                                               'RestaurantsDelivery','RestaurantsGoodForGroups','RestaurantsPriceRange2', 'RestaurantsReservations','RestaurantsTakeOut',\n",
    "                                              'DriveThru','GoodForMeal', 'RestaurantsTableService', 'WheelchairAccessible','WiFi']]], axis=1)    "
   ]
  },
  {
   "cell_type": "code",
   "execution_count": null,
   "metadata": {},
   "outputs": [],
   "source": [
    "attributes_flattened.columns"
   ]
  },
  {
   "cell_type": "code",
   "execution_count": null,
   "metadata": {},
   "outputs": [],
   "source": [
    "df_yelp_business_restaurants_flattened.head(3)"
   ]
  },
  {
   "cell_type": "markdown",
   "metadata": {},
   "source": [
    "Number of entities, Number of attributes"
   ]
  },
  {
   "cell_type": "code",
   "execution_count": null,
   "metadata": {},
   "outputs": [],
   "source": [
    "print(len(df_yelp_business_restaurants_flattened))\n",
    "print(len(df_yelp_business_restaurants_flattened.columns))\n",
    "df_yelp_business_restaurants_flattened.columns"
   ]
  },
  {
   "cell_type": "markdown",
   "metadata": {},
   "source": [
    "Missing Values (more than 30%)"
   ]
  },
  {
   "cell_type": "code",
   "execution_count": null,
   "metadata": {
    "collapsed": true
   },
   "outputs": [],
   "source": [
    "df_yelp_business_restaurants_flattened.replace('', np.nan, inplace=True)"
   ]
  },
  {
   "cell_type": "code",
   "execution_count": null,
   "metadata": {},
   "outputs": [],
   "source": [
    "df_yelp_business_restaurants_flattened.isnull().mean()"
   ]
  },
  {
   "cell_type": "markdown",
   "metadata": {},
   "source": [
    "City entities"
   ]
  },
  {
   "cell_type": "code",
   "execution_count": null,
   "metadata": {},
   "outputs": [],
   "source": [
    "len(df_yelp_business_restaurants_flattened[['city','state']].drop_duplicates())"
   ]
  },
  {
   "cell_type": "code",
   "execution_count": null,
   "metadata": {},
   "outputs": [],
   "source": [
    "df_yelp_business_restaurants_flattened.groupby(['city','state']).size().sort_values(ascending=False)[:15]"
   ]
  },
  {
   "cell_type": "code",
   "execution_count": null,
   "metadata": {
    "collapsed": true
   },
   "outputs": [],
   "source": [
    "# save as csv\n"
   ]
  }
 ],
 "metadata": {
  "kernelspec": {
   "display_name": "Python 3",
   "language": "python",
   "name": "python3"
  },
  "language_info": {
   "codemirror_mode": {
    "name": "ipython",
    "version": 3
   },
   "file_extension": ".py",
   "mimetype": "text/x-python",
   "name": "python",
   "nbconvert_exporter": "python",
   "pygments_lexer": "ipython3",
   "version": "3.5.5"
  }
 },
 "nbformat": 4,
 "nbformat_minor": 2
}
