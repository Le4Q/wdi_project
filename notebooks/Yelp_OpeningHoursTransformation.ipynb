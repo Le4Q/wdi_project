{
 "cells": [
  {
   "cell_type": "code",
   "execution_count": null,
   "metadata": {},
   "outputs": [],
   "source": [
    "  "
   ]
  },
  {
   "cell_type": "code",
   "execution_count": 3,
   "metadata": {},
   "outputs": [
    {
     "name": "stdout",
     "output_type": "stream",
     "text": [
      "Done\n"
     ]
    }
   ],
   "source": [
    "import csv\n",
    "\n",
    "fieldnames = ['', 'address','business_id','categories','city','hours','is_open','latitude','longitude','name','neighborhood','postal_code','review_count','stars','state','BikeParking','BusinessAcceptsCreditCards','BusinessParking','GoodForKids','HasTV','NoiseLevel','OutdoorSeating','RestaurantsAttire','RestaurantsDelivery','RestaurantsGoodForGroups','RestaurantsPriceRange2','RestaurantsReservations','RestaurantsTakeOut','DriveThru','GoodForMeal','RestaurantsTableService','WheelchairAccessible','WiFi','Monday','Tuesday','Wednesday','Thursday','Friday','Saturday','Sunday']\n",
    "\n",
    "csv_reader = None\n",
    "with open('B:/Development/wdi_project/data/yelp_restaurant_data.csv', encoding=\"utf8\") as csv_file:\n",
    "    f = open('B:/Development/wdi_project/data/yelp_restaurant_data2.csv', 'w', encoding=\"utf8\")\n",
    "    csv_reader = csv.DictReader(csv_file, delimiter='\\t')\n",
    "    csv_writer = csv.DictWriter(f, fieldnames=fieldnames, delimiter='\\t')\n",
    "    csv_writer.writeheader()\n",
    "    for x in csv_reader:\n",
    "        if x['hours'] != '':\n",
    "            tmp = x['hours'].replace('}','').replace('{','').split(\",\")\n",
    "            for y in tmp:\n",
    "                tmp2 = y.split(\"'\")\n",
    "                x[tmp2[1]] = tmp2[3]\n",
    "        csv_writer.writerow(dict(x))\n",
    "       \n",
    "        \n",
    "f.flush()\n",
    "f.close()\n",
    "print(\"Done\")        "
   ]
  },
  {
   "cell_type": "code",
   "execution_count": null,
   "metadata": {},
   "outputs": [],
   "source": []
  },
  {
   "cell_type": "code",
   "execution_count": null,
   "metadata": {
    "collapsed": true
   },
   "outputs": [],
   "source": []
  }
 ],
 "metadata": {
  "kernelspec": {
   "display_name": "Python 3",
   "language": "python",
   "name": "python3"
  },
  "language_info": {
   "codemirror_mode": {
    "name": "ipython",
    "version": 3
   },
   "file_extension": ".py",
   "mimetype": "text/x-python",
   "name": "python",
   "nbconvert_exporter": "python",
   "pygments_lexer": "ipython3",
   "version": "3.6.1"
  }
 },
 "nbformat": 4,
 "nbformat_minor": 2
}
