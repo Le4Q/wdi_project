{
 "cells": [
  {
   "cell_type": "code",
   "execution_count": null,
   "metadata": {},
   "outputs": [],
   "source": []
  },
  {
   "cell_type": "code",
   "execution_count": 5,
   "metadata": {},
   "outputs": [
    {
     "name": "stdout",
     "output_type": "stream",
     "text": [
      "Done\n"
     ]
    }
   ],
   "source": [
    "import re\n",
    "address = re.compile(\"<address>.*</address>\")\n",
    "\n",
    "newrestaurant = False\n",
    "current_id = \"\";\n",
    "\n",
    "f = open(\"C:/Users/Alexander/Desktop/schemaOrg_target2.xml\", \"w+\", encoding=\"utf-8\")\n",
    "with open(\"C:/Users/Alexander/Desktop/schemaOrg_target.xml\", \"r\", encoding=\"utf-8\") as file:\n",
    "    for line in file:\n",
    "        match=address.search(line, 1) \n",
    "        if not match:\n",
    "            f.write(line)\n",
    "        else:\n",
    "            string = line.split(\"<address>\")[1].split(\"</address>\")[0]\n",
    "            out = \"\"\n",
    "            upperCaseAllowed = True;\n",
    "            for i in range(0,len(string)):\n",
    "                if not upperCaseAllowed and string[i].isupper():\n",
    "                    break\n",
    "                else:\n",
    "                    out = out + string[i]\n",
    "                    if string[i] == ' ':\n",
    "                        upperCaseAllowed = True;\n",
    "                    else:\n",
    "                        upperCaseAllowed = False;\n",
    "            out = \"\\t\\t\\t<address>\" + out + \"</address>\\n\"\n",
    "            f.write(out)\n",
    "print(\"Done\")\n",
    "f.close()"
   ]
  },
  {
   "cell_type": "code",
   "execution_count": null,
   "metadata": {
    "collapsed": true
   },
   "outputs": [],
   "source": []
  }
 ],
 "metadata": {
  "kernelspec": {
   "display_name": "Python 3",
   "language": "python",
   "name": "python3"
  },
  "language_info": {
   "codemirror_mode": {
    "name": "ipython",
    "version": 3
   },
   "file_extension": ".py",
   "mimetype": "text/x-python",
   "name": "python",
   "nbconvert_exporter": "python",
   "pygments_lexer": "ipython3",
   "version": "3.6.1"
  }
 },
 "nbformat": 4,
 "nbformat_minor": 2
}
